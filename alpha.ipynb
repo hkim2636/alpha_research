{
 "metadata": {
  "language_info": {
   "codemirror_mode": {
    "name": "ipython",
    "version": 3
   },
   "file_extension": ".py",
   "mimetype": "text/x-python",
   "name": "python",
   "nbconvert_exporter": "python",
   "pygments_lexer": "ipython3",
   "version": "3.8.2-final"
  },
  "orig_nbformat": 2,
  "kernelspec": {
   "name": "Python 3.8.2 64-bit",
   "display_name": "Python 3.8.2 64-bit",
   "metadata": {
    "interpreter": {
     "hash": "31f2aee4e71d21fbe5cf8b01ff0e069b9275f58929596ceb00d14d90e3e16cd6"
    }
   }
  }
 },
 "nbformat": 4,
 "nbformat_minor": 2,
 "cells": [
  {
   "cell_type": "code",
   "execution_count": 8,
   "metadata": {},
   "outputs": [],
   "source": [
    "import pandas as pd"
   ]
  },
  {
   "cell_type": "code",
   "execution_count": 9,
   "metadata": {},
   "outputs": [
    {
     "output_type": "execute_result",
     "data": {
      "text/plain": [
       "                     time      open      high       low     close   volume  \\\n",
       "0  2020-09-22 01:00:00+00  10417.22  10491.32  10353.00  10457.99  2684.66   \n",
       "1  2020-09-22 00:00:00+00  10478.14  10506.17  10410.00  10417.22  1821.59   \n",
       "2  2020-09-21 23:00:00+00  10504.00  10533.32  10466.68  10478.14  1371.18   \n",
       "3  2020-09-21 22:00:00+00  10477.79  10533.42  10461.51  10504.00  1224.15   \n",
       "4  2020-09-21 21:00:00+00  10498.55  10533.46  10470.80  10477.79  2312.87   \n",
       "\n",
       "      volumeq  \n",
       "0  28035488.0  \n",
       "1  19055766.0  \n",
       "2  14393971.0  \n",
       "3  12846556.0  \n",
       "4  24304476.0  "
      ],
      "text/html": "<div>\n<style scoped>\n    .dataframe tbody tr th:only-of-type {\n        vertical-align: middle;\n    }\n\n    .dataframe tbody tr th {\n        vertical-align: top;\n    }\n\n    .dataframe thead th {\n        text-align: right;\n    }\n</style>\n<table border=\"1\" class=\"dataframe\">\n  <thead>\n    <tr style=\"text-align: right;\">\n      <th></th>\n      <th>time</th>\n      <th>open</th>\n      <th>high</th>\n      <th>low</th>\n      <th>close</th>\n      <th>volume</th>\n      <th>volumeq</th>\n    </tr>\n  </thead>\n  <tbody>\n    <tr>\n      <th>0</th>\n      <td>2020-09-22 01:00:00+00</td>\n      <td>10417.22</td>\n      <td>10491.32</td>\n      <td>10353.00</td>\n      <td>10457.99</td>\n      <td>2684.66</td>\n      <td>28035488.0</td>\n    </tr>\n    <tr>\n      <th>1</th>\n      <td>2020-09-22 00:00:00+00</td>\n      <td>10478.14</td>\n      <td>10506.17</td>\n      <td>10410.00</td>\n      <td>10417.22</td>\n      <td>1821.59</td>\n      <td>19055766.0</td>\n    </tr>\n    <tr>\n      <th>2</th>\n      <td>2020-09-21 23:00:00+00</td>\n      <td>10504.00</td>\n      <td>10533.32</td>\n      <td>10466.68</td>\n      <td>10478.14</td>\n      <td>1371.18</td>\n      <td>14393971.0</td>\n    </tr>\n    <tr>\n      <th>3</th>\n      <td>2020-09-21 22:00:00+00</td>\n      <td>10477.79</td>\n      <td>10533.42</td>\n      <td>10461.51</td>\n      <td>10504.00</td>\n      <td>1224.15</td>\n      <td>12846556.0</td>\n    </tr>\n    <tr>\n      <th>4</th>\n      <td>2020-09-21 21:00:00+00</td>\n      <td>10498.55</td>\n      <td>10533.46</td>\n      <td>10470.80</td>\n      <td>10477.79</td>\n      <td>2312.87</td>\n      <td>24304476.0</td>\n    </tr>\n  </tbody>\n</table>\n</div>"
     },
     "metadata": {},
     "execution_count": 9
    }
   ],
   "source": [
    "btc_data = pd.read_csv(\"binance_btc_usdt.csv\")\n",
    "data.head()"
   ]
  },
  {
   "cell_type": "code",
   "execution_count": 10,
   "metadata": {},
   "outputs": [
    {
     "output_type": "execute_result",
     "data": {
      "text/plain": [
       "                    id      conversation_id               created_at  \\\n",
       "0  1079754048935522304  1079754048935522304  2019-01-01 00:00:00 KST   \n",
       "1  1079754048327143428  1079754048327143428  2019-01-01 00:00:00 KST   \n",
       "2  1079754047178051584  1079754047178051584  2019-01-01 00:00:00 KST   \n",
       "3  1079754007449608193  1079754007449608193  2018-12-31 23:59:50 KST   \n",
       "4  1079753972661968896  1079753972661968896  2018-12-31 23:59:42 KST   \n",
       "\n",
       "         date      time  timezone              user_id         username  \\\n",
       "0  2019-01-01  00:00:00       900   872234445499244552     cryptohourly   \n",
       "1  2019-01-01  00:00:00       900             10880202     philanthropy   \n",
       "2  2019-01-01  00:00:00       900   873103406008745984   howmanybigmacs   \n",
       "3  2018-12-31  23:59:50       900  1056561295061848066      kardesbaris   \n",
       "4  2018-12-31  23:59:42       900   994885557435228161  vaishal19124597   \n",
       "\n",
       "                            name place  ... geo source user_rt_id user_rt  \\\n",
       "0                  crypto Hourly   NaN  ... NaN    NaN        NaN     NaN   \n",
       "1  The Chronicle of Philanthropy   NaN  ... NaN    NaN        NaN     NaN   \n",
       "2              How many big macs   NaN  ... NaN    NaN        NaN     NaN   \n",
       "3                   Barış Kardeş   NaN  ... NaN    NaN        NaN     NaN   \n",
       "4                            NaN   NaN  ... NaN    NaN        NaN     NaN   \n",
       "\n",
       "  retweet_id                             reply_to  retweet_date  translate  \\\n",
       "0        NaN  {'user_id': None, 'username': None}           NaN        NaN   \n",
       "1        NaN  {'user_id': None, 'username': None}           NaN        NaN   \n",
       "2        NaN  {'user_id': None, 'username': None}           NaN        NaN   \n",
       "3        NaN  {'user_id': None, 'username': None}           NaN        NaN   \n",
       "4        NaN  {'user_id': None, 'username': None}           NaN        NaN   \n",
       "\n",
       "  trans_src trans_dest  \n",
       "0       NaN        NaN  \n",
       "1       NaN        NaN  \n",
       "2       NaN        NaN  \n",
       "3       NaN        NaN  \n",
       "4       NaN        NaN  \n",
       "\n",
       "[5 rows x 36 columns]"
      ],
      "text/html": "<div>\n<style scoped>\n    .dataframe tbody tr th:only-of-type {\n        vertical-align: middle;\n    }\n\n    .dataframe tbody tr th {\n        vertical-align: top;\n    }\n\n    .dataframe thead th {\n        text-align: right;\n    }\n</style>\n<table border=\"1\" class=\"dataframe\">\n  <thead>\n    <tr style=\"text-align: right;\">\n      <th></th>\n      <th>id</th>\n      <th>conversation_id</th>\n      <th>created_at</th>\n      <th>date</th>\n      <th>time</th>\n      <th>timezone</th>\n      <th>user_id</th>\n      <th>username</th>\n      <th>name</th>\n      <th>place</th>\n      <th>...</th>\n      <th>geo</th>\n      <th>source</th>\n      <th>user_rt_id</th>\n      <th>user_rt</th>\n      <th>retweet_id</th>\n      <th>reply_to</th>\n      <th>retweet_date</th>\n      <th>translate</th>\n      <th>trans_src</th>\n      <th>trans_dest</th>\n    </tr>\n  </thead>\n  <tbody>\n    <tr>\n      <th>0</th>\n      <td>1079754048935522304</td>\n      <td>1079754048935522304</td>\n      <td>2019-01-01 00:00:00 KST</td>\n      <td>2019-01-01</td>\n      <td>00:00:00</td>\n      <td>900</td>\n      <td>872234445499244552</td>\n      <td>cryptohourly</td>\n      <td>crypto Hourly</td>\n      <td>NaN</td>\n      <td>...</td>\n      <td>NaN</td>\n      <td>NaN</td>\n      <td>NaN</td>\n      <td>NaN</td>\n      <td>NaN</td>\n      <td>{'user_id': None, 'username': None}</td>\n      <td>NaN</td>\n      <td>NaN</td>\n      <td>NaN</td>\n      <td>NaN</td>\n    </tr>\n    <tr>\n      <th>1</th>\n      <td>1079754048327143428</td>\n      <td>1079754048327143428</td>\n      <td>2019-01-01 00:00:00 KST</td>\n      <td>2019-01-01</td>\n      <td>00:00:00</td>\n      <td>900</td>\n      <td>10880202</td>\n      <td>philanthropy</td>\n      <td>The Chronicle of Philanthropy</td>\n      <td>NaN</td>\n      <td>...</td>\n      <td>NaN</td>\n      <td>NaN</td>\n      <td>NaN</td>\n      <td>NaN</td>\n      <td>NaN</td>\n      <td>{'user_id': None, 'username': None}</td>\n      <td>NaN</td>\n      <td>NaN</td>\n      <td>NaN</td>\n      <td>NaN</td>\n    </tr>\n    <tr>\n      <th>2</th>\n      <td>1079754047178051584</td>\n      <td>1079754047178051584</td>\n      <td>2019-01-01 00:00:00 KST</td>\n      <td>2019-01-01</td>\n      <td>00:00:00</td>\n      <td>900</td>\n      <td>873103406008745984</td>\n      <td>howmanybigmacs</td>\n      <td>How many big macs</td>\n      <td>NaN</td>\n      <td>...</td>\n      <td>NaN</td>\n      <td>NaN</td>\n      <td>NaN</td>\n      <td>NaN</td>\n      <td>NaN</td>\n      <td>{'user_id': None, 'username': None}</td>\n      <td>NaN</td>\n      <td>NaN</td>\n      <td>NaN</td>\n      <td>NaN</td>\n    </tr>\n    <tr>\n      <th>3</th>\n      <td>1079754007449608193</td>\n      <td>1079754007449608193</td>\n      <td>2018-12-31 23:59:50 KST</td>\n      <td>2018-12-31</td>\n      <td>23:59:50</td>\n      <td>900</td>\n      <td>1056561295061848066</td>\n      <td>kardesbaris</td>\n      <td>Barış Kardeş</td>\n      <td>NaN</td>\n      <td>...</td>\n      <td>NaN</td>\n      <td>NaN</td>\n      <td>NaN</td>\n      <td>NaN</td>\n      <td>NaN</td>\n      <td>{'user_id': None, 'username': None}</td>\n      <td>NaN</td>\n      <td>NaN</td>\n      <td>NaN</td>\n      <td>NaN</td>\n    </tr>\n    <tr>\n      <th>4</th>\n      <td>1079753972661968896</td>\n      <td>1079753972661968896</td>\n      <td>2018-12-31 23:59:42 KST</td>\n      <td>2018-12-31</td>\n      <td>23:59:42</td>\n      <td>900</td>\n      <td>994885557435228161</td>\n      <td>vaishal19124597</td>\n      <td>NaN</td>\n      <td>NaN</td>\n      <td>...</td>\n      <td>NaN</td>\n      <td>NaN</td>\n      <td>NaN</td>\n      <td>NaN</td>\n      <td>NaN</td>\n      <td>{'user_id': None, 'username': None}</td>\n      <td>NaN</td>\n      <td>NaN</td>\n      <td>NaN</td>\n      <td>NaN</td>\n    </tr>\n  </tbody>\n</table>\n<p>5 rows × 36 columns</p>\n</div>"
     },
     "metadata": {},
     "execution_count": 10
    }
   ],
   "source": [
    "twitter_data = pd.read_csv(\"bitcoin_20180101_20181231.csv\")\n",
    "twitter_data.head()"
   ]
  },
  {
   "cell_type": "code",
   "execution_count": null,
   "metadata": {},
   "outputs": [],
   "source": []
  }
 ]
}